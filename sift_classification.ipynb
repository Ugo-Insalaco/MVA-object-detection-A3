{
 "cells": [
  {
   "cell_type": "markdown",
   "metadata": {
    "id": "QBnNvXi5q05k"
   },
   "source": [
    "# 0. Package initialization"
   ]
  },
  {
   "cell_type": "code",
   "execution_count": 1,
   "metadata": {
    "colab": {
     "base_uri": "https://localhost:8080/"
    },
    "executionInfo": {
     "elapsed": 15183,
     "status": "ok",
     "timestamp": 1700745559461,
     "user": {
      "displayName": "Ugo Insalaco",
      "userId": "06096616963439648287"
     },
     "user_tz": -60
    },
    "id": "iKq-DuiBnisq",
    "outputId": "278d4ae5-9da2-48b4-bf4f-fdea18721c57"
   },
   "outputs": [
    {
     "name": "stdout",
     "output_type": "stream",
     "text": [
      "Collecting Cython==3.0.0a9\n",
      "  Downloading Cython-3.0.0a9-py2.py3-none-any.whl (1.1 MB)\n",
      "\u001b[?25l     \u001b[90m━━━━━━━━━━━━━━━━━━━━━━━━━━━━━━━━━━━━━━━━\u001b[0m \u001b[32m0.0/1.1 MB\u001b[0m \u001b[31m?\u001b[0m eta \u001b[36m-:--:--\u001b[0m\r\n",
      "\u001b[2K     \u001b[91m━━━━\u001b[0m\u001b[90m╺\u001b[0m\u001b[90m━━━━━━━━━━━━━━━━━━━━━━━━━━━━━━━━━━━\u001b[0m \u001b[32m0.1/1.1 MB\u001b[0m \u001b[31m3.2 MB/s\u001b[0m eta \u001b[36m0:00:01\u001b[0m\r\n",
      "\u001b[2K     \u001b[91m━━━━━━━━━━━━━━━━━━━━━━━━━━━━━━━\u001b[0m\u001b[91m╸\u001b[0m\u001b[90m━━━━━━━━\u001b[0m \u001b[32m0.8/1.1 MB\u001b[0m \u001b[31m12.1 MB/s\u001b[0m eta \u001b[36m0:00:01\u001b[0m\r\n",
      "\u001b[2K     \u001b[90m━━━━━━━━━━━━━━━━━━━━━━━━━━━━━━━━━━━━━━━━\u001b[0m \u001b[32m1.1/1.1 MB\u001b[0m \u001b[31m11.1 MB/s\u001b[0m eta \u001b[36m0:00:00\u001b[0m\n",
      "\u001b[?25hInstalling collected packages: Cython\n",
      "  Attempting uninstall: Cython\n",
      "    Found existing installation: Cython 3.0.5\n",
      "    Uninstalling Cython-3.0.5:\n",
      "      Successfully uninstalled Cython-3.0.5\n",
      "Successfully installed Cython-3.0.0a9\n"
     ]
    }
   ],
   "source": [
    "!pip install Cython==3.0.0a9"
   ]
  },
  {
   "cell_type": "code",
   "execution_count": 2,
   "metadata": {
    "colab": {
     "base_uri": "https://localhost:8080/"
    },
    "executionInfo": {
     "elapsed": 68255,
     "status": "ok",
     "timestamp": 1700745666522,
     "user": {
      "displayName": "Ugo Insalaco",
      "userId": "06096616963439648287"
     },
     "user_tz": -60
    },
    "id": "sUJEknx6nqRH",
    "outputId": "5d8a6c9a-b82d-4dd6-92c7-6d71d15adf94"
   },
   "outputs": [
    {
     "name": "stdout",
     "output_type": "stream",
     "text": [
      "--2023-11-23 13:19:58--  http://www.di.ens.fr/willow/teaching/recvis_orig/assignment1/install_cyvlfeat.py\n",
      "Resolving www.di.ens.fr (www.di.ens.fr)... 129.199.99.14\n",
      "Connecting to www.di.ens.fr (www.di.ens.fr)|129.199.99.14|:80... connected.\n",
      "HTTP request sent, awaiting response... 302 Found\n",
      "Location: https://www.di.ens.fr/willow/teaching/recvis_orig/assignment1/install_cyvlfeat.py [following]\n",
      "--2023-11-23 13:19:58--  https://www.di.ens.fr/willow/teaching/recvis_orig/assignment1/install_cyvlfeat.py\n",
      "Connecting to www.di.ens.fr (www.di.ens.fr)|129.199.99.14|:443... connected.\n",
      "HTTP request sent, awaiting response... 200 OK\n",
      "Length: unspecified [text/x-python]\n",
      "Saving to: ‘install_cyvlfeat.py’\n",
      "\n",
      "install_cyvlfeat.py     [ <=>                ]   3.62K  --.-KB/s    in 0s      \n",
      "\n",
      "2023-11-23 13:19:59 (17.6 MB/s) - ‘install_cyvlfeat.py’ saved [3710]\n",
      "\n",
      "installing cython... done!\n",
      "downloading vlfeat binaries... done!\n",
      "uncompressing vlfeat binaries... done!\n",
      "cloning pyvlfeat repo to cyvlfeat_git folder... done!\n",
      "building cyvlfeat... done!\n",
      "installing cyvlfeat... done! NOTE: to uninstall run: cat cyvlfeat_files.txt | xargs rm -rf\n",
      "copying vlfeat dynamic libary to a reachable location... done!\n",
      "Installation of cyvlfeat is finished\n"
     ]
    }
   ],
   "source": [
    "!wget -N http://www.di.ens.fr/willow/teaching/recvis_orig/assignment1/install_cyvlfeat.py\n",
    "%run install_cyvlfeat.py"
   ]
  },
  {
   "cell_type": "markdown",
   "metadata": {},
   "source": [
    "# 0.5 Global variables"
   ]
  },
  {
   "cell_type": "code",
   "execution_count": 38,
   "metadata": {},
   "outputs": [],
   "source": [
    "data_path = \"data_sketches\"\n",
    "\n",
    "train_folder = \"train_images\"\n",
    "test_folder = \"test_images\"\n",
    "val_folder = \"val_images\"\n",
    "\n",
    "feature_file = \"features.csv\"\n",
    "label_file = \"labels.csv\"\n",
    "index_file = \"index.csv\"\n",
    "\n",
    "val_feature_file = \"val_features.csv\"\n",
    "val_label_file = \"val_labels.csv\"\n",
    "val_index_file = \"val_index.csv\""
   ]
  },
  {
   "cell_type": "code",
   "execution_count": 33,
   "metadata": {},
   "outputs": [],
   "source": [
    "def save_features(features, labels, feature_file, label_file, index_file):\n",
    "  # Saving features\n",
    "  # features: nimages x nfeats x 256, all features extracted\n",
    "  # labels: nimages, labels of each image\n",
    "  n_features_image = np.array([f.shape[0] for f in features])\n",
    "  n_features_index = np.cumsum(n_features_image)\n",
    "  labs = np.array(labels)\n",
    "  feats = np.concatenate(features, dtype = np.int32)\n",
    "\n",
    "  np.savetxt(feature_file, feats, delimiter=\",\")\n",
    "  np.savetxt(label_file, labs, delimiter=',')\n",
    "  np.savetxt(index_file, n_features_index, delimiter=',')"
   ]
  },
  {
   "cell_type": "code",
   "execution_count": 34,
   "metadata": {},
   "outputs": [],
   "source": [
    "def create_sift_features(feature_file, label_file, index_file, data, threshold):\n",
    "  # Creating sift features from dataset and saving them\n",
    "  # data: dataloader of images\n",
    "  # threshold: sift threshold\n",
    "  features = []\n",
    "  labels = []\n",
    "  i = 0\n",
    "  for _, (img, label) in enumerate(data):\n",
    "    i+=1\n",
    "    img = img[0, 1].numpy()\n",
    "    if i%50==0:\n",
    "      print(f\"image: {i}/{len(data)} ({round(i/len(data)*100, 2)})\")\n",
    "      # break\n",
    "    if i%1000==0:\n",
    "      save_features(features, labels, feature_file, label_file, index_file)\n",
    "\n",
    "    [frames, descrs] = cyvlfeat.sift.sift(img, peak_thresh=threshold)\n",
    "    features.append(descrs)\n",
    "    labels.append(label)\n",
    "\n",
    "  save_features(features, labels, feature_file, label_file, index_file)"
   ]
  },
  {
   "cell_type": "code",
   "execution_count": 35,
   "metadata": {},
   "outputs": [],
   "source": [
    "def create_histogram_dataset(feature_dictionary_file, feature_file, index_file, hist_file):\n",
    "  # Creating a dataset of histogram from the dictionary of features\n",
    "  feature_dictionary = np.loadtxt(feature_dictionary_file, delimiter=\",\")\n",
    "  features = np.genfromtxt(feature_file, delimiter=\",\", dtype=np.int32)\n",
    "  index = np.genfromtxt(index_file, delimiter=\",\", dtype=np.int32)\n",
    "\n",
    "  tree = KDTree(feature_dictionary)\n",
    "\n",
    "  nsample = index.shape[0]\n",
    "  nword, _ = feature_dictionary.shape\n",
    "\n",
    "  hist = np.zeros((nsample, nword))\n",
    "  for i in range(nsample):\n",
    "    if i==0:\n",
    "      feats = features[:index[0]]\n",
    "    else:\n",
    "      feats = features[index[i-1]:index[i]]\n",
    "    nfeat = feats.shape[0]\n",
    "    if nfeat > 0:\n",
    "      _, ind = tree.query(feats, k=1)\n",
    "      for j in range(nfeat):\n",
    "        hist[i, ind[j]]+=1\n",
    "  np.savetxt(hist_file, hist, delimiter=',')"
   ]
  },
  {
   "cell_type": "code",
   "execution_count": 73,
   "metadata": {},
   "outputs": [],
   "source": [
    "def compute_tfidf(hist_file, tfidf_file):\n",
    "    # Compute the tfidf of the histogram file\n",
    "    eps = 1e-5\n",
    "    hist = np.loadtxt(hist_file, delimiter=\",\").astype(np.int64) # n x f\n",
    "    print(np.sum(np.sum(hist, axis = 1)==0))\n",
    "    TF = hist/(np.sum(hist, axis = 1, keepdims=True)+eps) # n (proportion where the word j appears in document i)\n",
    "    IDF = np.log(hist.shape[0]/(np.sum(hist > 0, axis = 0))) # f (number of document i where j appears)\n",
    "    np.savetxt(tfidf_file, TF * IDF[None, :], delimiter=',')"
   ]
  },
  {
   "cell_type": "code",
   "execution_count": 75,
   "metadata": {},
   "outputs": [],
   "source": [
    "def normalize_histogram(hist_file, tfidf_file, norm_hist_file):\n",
    "    # Histogram normalization with tfidf, square root and euclidian norm\n",
    "    eps = 1e-5\n",
    "    hist = np.loadtxt(hist_file, delimiter=\",\").astype(np.int64) # n x f\n",
    "    tfidf = np.loadtxt(tfidf_file, delimiter=\",\")\n",
    "    norm_hist = hist * tfidf\n",
    "    norm_hist = np.sqrt(norm_hist)\n",
    "    norm_hist = norm_hist/(np.linalg.norm(norm_hist, axis = 1, keepdims=True)+eps)\n",
    "    \n",
    "    np.savetxt(norm_hist_file, norm_hist, delimiter = ',')"
   ]
  },
  {
   "cell_type": "markdown",
   "metadata": {
    "id": "lHjfbdAOq8Mz"
   },
   "source": [
    "# 1. First feature extraction test"
   ]
  },
  {
   "cell_type": "code",
   "execution_count": 3,
   "metadata": {
    "executionInfo": {
     "elapsed": 1408,
     "status": "ok",
     "timestamp": 1700745707216,
     "user": {
      "displayName": "Ugo Insalaco",
      "userId": "06096616963439648287"
     },
     "user_tz": -60
    },
    "id": "YNBU9hIbnvAS"
   },
   "outputs": [],
   "source": [
    "import cyvlfeat\n",
    "import numpy as np\n",
    "from skimage.io import imread\n",
    "from skimage.transform import resize, rotate\n",
    "import matplotlib as mpl\n",
    "import matplotlib.pyplot as plt\n",
    "import warnings\n",
    "from cyvlfeat.plot import plotframes\n",
    "from scipy.io import loadmat\n",
    "import numpy as np\n",
    "import os\n",
    "\n",
    "# change some default matplotlib parameters\n",
    "mpl.rcParams['axes.grid'] = False\n",
    "mpl.rcParams['figure.dpi'] = 120\n",
    "\n",
    "# ignore warnings\n",
    "warnings.filterwarnings('ignore')"
   ]
  },
  {
   "cell_type": "code",
   "execution_count": 4,
   "metadata": {
    "colab": {
     "base_uri": "https://localhost:8080/",
     "height": 555
    },
    "executionInfo": {
     "elapsed": 3144,
     "status": "ok",
     "timestamp": 1700745711280,
     "user": {
      "displayName": "Ugo Insalaco",
      "userId": "06096616963439648287"
     },
     "user_tz": -60
    },
    "id": "1zW0aHv4opAV",
    "outputId": "ec5f5c56-69ee-400f-b85c-45fbd3aa88bf"
   },
   "outputs": [
    {
     "name": "stdout",
     "output_type": "stream",
     "text": [
      "(1111, 1111)\n"
     ]
    },
    {
     "data": {
      "image/png": "[encoded data removed]",
      "text/plain": [
       "<Figure size 768x576 with 1 Axes>"
      ]
     },
     "metadata": {},
     "output_type": "display_data"
    },
    {
     "name": "stdout",
     "output_type": "stream",
     "text": [
      "<class 'numpy.ndarray'>\n"
     ]
    }
   ],
   "source": [
    "im1 = imread('/content/drive/MyDrive/data_sketches/train_images/000_airplane/1.png')\n",
    "f, (ax1) = plt.subplots(1, 1)\n",
    "print(im1.shape)\n",
    "ax1.imshow(im1)\n",
    "plt.show()\n",
    "print(type(im1))"
   ]
  },
  {
   "cell_type": "code",
   "execution_count": 5,
   "metadata": {
    "colab": {
     "base_uri": "https://localhost:8080/",
     "height": 520
    },
    "executionInfo": {
     "elapsed": 1691,
     "status": "ok",
     "timestamp": 1700745714903,
     "user": {
      "displayName": "Ugo Insalaco",
      "userId": "06096616963439648287"
     },
     "user_tz": -60
    },
    "id": "BYNNl4hVpUHK",
    "outputId": "64b1ceee-9cbc-4a51-854f-75fc6747acdc"
   },
   "outputs": [
    {
     "data": {
      "image/png": "[encoded data removed]",
      "text/plain": [
       "<Figure size 768x576 with 1 Axes>"
      ]
     },
     "metadata": {},
     "output_type": "display_data"
    }
   ],
   "source": [
    "[frames1, descrs1] = cyvlfeat.sift.sift(im1, peak_thresh=0.01)\n",
    "f, (ax1) = plt.subplots(1)\n",
    "plt.sca(ax1)\n",
    "plt.imshow(im1)\n",
    "plotframes(frames1, linewidth=1)"
   ]
  },
  {
   "cell_type": "markdown",
   "metadata": {
    "id": "4CVVHtOqq_ri"
   },
   "source": [
    "# 2. Extraction de features (seulement besoin de le faire une fois)"
   ]
  },
  {
   "cell_type": "code",
   "execution_count": 7,
   "metadata": {
    "executionInfo": {
     "elapsed": 8134,
     "status": "ok",
     "timestamp": 1700745756605,
     "user": {
      "displayName": "Ugo Insalaco",
      "userId": "06096616963439648287"
     },
     "user_tz": -60
    },
    "id": "2ITYGiebqZPi"
   },
   "outputs": [],
   "source": [
    "import torch\n",
    "from torchvision import datasets\n",
    "import torchvision.transforms as transforms"
   ]
  },
  {
   "cell_type": "code",
   "execution_count": 8,
   "metadata": {
    "executionInfo": {
     "elapsed": 10,
     "status": "ok",
     "timestamp": 1700745756605,
     "user": {
      "displayName": "Ugo Insalaco",
      "userId": "06096616963439648287"
     },
     "user_tz": -60
    },
    "id": "EHDd0ZoqqnPv"
   },
   "outputs": [],
   "source": [
    "data_transforms = transforms.Compose([\n",
    "    transforms.ToTensor()\n",
    "])"
   ]
  },
  {
   "cell_type": "code",
   "execution_count": 9,
   "metadata": {
    "executionInfo": {
     "elapsed": 323,
     "status": "ok",
     "timestamp": 1700745758422,
     "user": {
      "displayName": "Ugo Insalaco",
      "userId": "06096616963439648287"
     },
     "user_tz": -60
    },
    "id": "D7GoVcmGqMuo"
   },
   "outputs": [],
   "source": [
    "train_loader = torch.utils.data.DataLoader(\n",
    "      datasets.ImageFolder(os.path.join(data_path, train_folder), transform=data_transforms),\n",
    "      batch_size=1,\n",
    "      shuffle=True,\n",
    "      num_workers=1,\n",
    "  )"
   ]
  },
  {
   "cell_type": "code",
   "execution_count": 10,
   "metadata": {
    "colab": {
     "base_uri": "https://localhost:8080/"
    },
    "executionInfo": {
     "elapsed": 3,
     "status": "ok",
     "timestamp": 1700745759659,
     "user": {
      "displayName": "Ugo Insalaco",
      "userId": "06096616963439648287"
     },
     "user_tz": -60
    },
    "id": "pMuxYUez0cgn",
    "outputId": "05084535-1e46-4c51-966c-c6fe01b00e7c"
   },
   "outputs": [
    {
     "name": "stdout",
     "output_type": "stream",
     "text": [
      "12000\n"
     ]
    }
   ],
   "source": [
    "print(len(train_loader))"
   ]
  },
  {
   "cell_type": "code",
   "execution_count": 18,
   "metadata": {
    "colab": {
     "base_uri": "https://localhost:8080/"
    },
    "executionInfo": {
     "elapsed": 9278118,
     "status": "ok",
     "timestamp": 1700755082476,
     "user": {
      "displayName": "Ugo Insalaco",
      "userId": "06096616963439648287"
     },
     "user_tz": -60
    },
    "id": "ro6TSPVEWUBq",
    "outputId": "834ad483-666b-472d-b37f-98536df03c04",
    "scrolled": true
   },
   "outputs": [
    {
     "name": "stdout",
     "output_type": "stream",
     "text": [
      "image: 50/12000 (0.42)\n",
      "image: 100/12000 (0.83)\n",
      "image: 150/12000 (1.25)\n",
      "image: 200/12000 (1.67)\n",
      "image: 250/12000 (2.08)\n",
      "image: 300/12000 (2.5)\n",
      "image: 350/12000 (2.92)\n",
      "image: 400/12000 (3.33)\n",
      "image: 450/12000 (3.75)\n",
      "image: 500/12000 (4.17)\n",
      "image: 550/12000 (4.58)\n",
      "image: 600/12000 (5.0)\n",
      "image: 650/12000 (5.42)\n",
      "image: 700/12000 (5.83)\n",
      "image: 750/12000 (6.25)\n",
      "image: 800/12000 (6.67)\n",
      "image: 850/12000 (7.08)\n",
      "image: 900/12000 (7.5)\n",
      "image: 950/12000 (7.92)\n",
      "image: 1000/12000 (8.33)\n",
      "image: 1050/12000 (8.75)\n",
      "image: 1100/12000 (9.17)\n",
      "image: 1150/12000 (9.58)\n",
      "image: 1200/12000 (10.0)\n",
      "image: 1250/12000 (10.42)\n",
      "image: 1300/12000 (10.83)\n",
      "image: 1350/12000 (11.25)\n",
      "image: 1400/12000 (11.67)\n",
      "image: 1450/12000 (12.08)\n",
      "image: 1500/12000 (12.5)\n",
      "image: 1550/12000 (12.92)\n",
      "image: 1600/12000 (13.33)\n",
      "image: 1650/12000 (13.75)\n",
      "image: 1700/12000 (14.17)\n",
      "image: 1750/12000 (14.58)\n",
      "image: 1800/12000 (15.0)\n",
      "image: 1850/12000 (15.42)\n",
      "image: 1900/12000 (15.83)\n",
      "image: 1950/12000 (16.25)\n",
      "image: 2000/12000 (16.67)\n",
      "image: 2050/12000 (17.08)\n",
      "image: 2100/12000 (17.5)\n",
      "image: 2150/12000 (17.92)\n",
      "image: 2200/12000 (18.33)\n",
      "image: 2250/12000 (18.75)\n",
      "image: 2300/12000 (19.17)\n",
      "image: 2350/12000 (19.58)\n",
      "image: 2400/12000 (20.0)\n",
      "image: 2450/12000 (20.42)\n",
      "image: 2500/12000 (20.83)\n",
      "image: 2550/12000 (21.25)\n",
      "image: 2600/12000 (21.67)\n",
      "image: 2650/12000 (22.08)\n",
      "image: 2700/12000 (22.5)\n",
      "image: 2750/12000 (22.92)\n",
      "image: 2800/12000 (23.33)\n",
      "image: 2850/12000 (23.75)\n",
      "image: 2900/12000 (24.17)\n",
      "image: 2950/12000 (24.58)\n",
      "image: 3000/12000 (25.0)\n",
      "image: 3050/12000 (25.42)\n",
      "image: 3100/12000 (25.83)\n",
      "image: 3150/12000 (26.25)\n",
      "image: 3200/12000 (26.67)\n",
      "image: 3250/12000 (27.08)\n",
      "image: 3300/12000 (27.5)\n",
      "image: 3350/12000 (27.92)\n",
      "image: 3400/12000 (28.33)\n",
      "image: 3450/12000 (28.75)\n",
      "image: 3500/12000 (29.17)\n",
      "image: 3550/12000 (29.58)\n",
      "image: 3600/12000 (30.0)\n",
      "image: 3650/12000 (30.42)\n",
      "image: 3700/12000 (30.83)\n",
      "image: 3750/12000 (31.25)\n",
      "image: 3800/12000 (31.67)\n",
      "image: 3850/12000 (32.08)\n",
      "image: 3900/12000 (32.5)\n",
      "image: 3950/12000 (32.92)\n",
      "image: 4000/12000 (33.33)\n",
      "image: 4050/12000 (33.75)\n",
      "image: 4100/12000 (34.17)\n",
      "image: 4150/12000 (34.58)\n",
      "image: 4200/12000 (35.0)\n",
      "image: 4250/12000 (35.42)\n",
      "image: 4300/12000 (35.83)\n",
      "image: 4350/12000 (36.25)\n",
      "image: 4400/12000 (36.67)\n",
      "image: 4450/12000 (37.08)\n",
      "image: 4500/12000 (37.5)\n",
      "image: 4550/12000 (37.92)\n",
      "image: 4600/12000 (38.33)\n",
      "image: 4650/12000 (38.75)\n",
      "image: 4700/12000 (39.17)\n",
      "image: 4750/12000 (39.58)\n",
      "image: 4800/12000 (40.0)\n",
      "image: 4850/12000 (40.42)\n",
      "image: 4900/12000 (40.83)\n",
      "image: 4950/12000 (41.25)\n",
      "image: 5000/12000 (41.67)\n",
      "image: 5050/12000 (42.08)\n",
      "image: 5100/12000 (42.5)\n",
      "image: 5150/12000 (42.92)\n",
      "image: 5200/12000 (43.33)\n",
      "image: 5250/12000 (43.75)\n",
      "image: 5300/12000 (44.17)\n",
      "image: 5350/12000 (44.58)\n",
      "image: 5400/12000 (45.0)\n",
      "image: 5450/12000 (45.42)\n",
      "image: 5500/12000 (45.83)\n",
      "image: 5550/12000 (46.25)\n",
      "image: 5600/12000 (46.67)\n",
      "image: 5650/12000 (47.08)\n",
      "image: 5700/12000 (47.5)\n",
      "image: 5750/12000 (47.92)\n",
      "image: 5800/12000 (48.33)\n",
      "image: 5850/12000 (48.75)\n",
      "image: 5900/12000 (49.17)\n",
      "image: 5950/12000 (49.58)\n",
      "image: 6000/12000 (50.0)\n",
      "image: 6050/12000 (50.42)\n",
      "image: 6100/12000 (50.83)\n",
      "image: 6150/12000 (51.25)\n",
      "image: 6200/12000 (51.67)\n",
      "image: 6250/12000 (52.08)\n",
      "image: 6300/12000 (52.5)\n",
      "image: 6350/12000 (52.92)\n",
      "image: 6400/12000 (53.33)\n",
      "image: 6450/12000 (53.75)\n",
      "image: 6500/12000 (54.17)\n",
      "image: 6550/12000 (54.58)\n",
      "image: 6600/12000 (55.0)\n",
      "image: 6650/12000 (55.42)\n",
      "image: 6700/12000 (55.83)\n",
      "image: 6750/12000 (56.25)\n",
      "image: 6800/12000 (56.67)\n",
      "image: 6850/12000 (57.08)\n",
      "image: 6900/12000 (57.5)\n",
      "image: 6950/12000 (57.92)\n",
      "image: 7000/12000 (58.33)\n",
      "image: 7050/12000 (58.75)\n",
      "image: 7100/12000 (59.17)\n",
      "image: 7150/12000 (59.58)\n",
      "image: 7200/12000 (60.0)\n",
      "image: 7250/12000 (60.42)\n",
      "image: 7300/12000 (60.83)\n",
      "image: 7350/12000 (61.25)\n",
      "image: 7400/12000 (61.67)\n",
      "image: 7450/12000 (62.08)\n",
      "image: 7500/12000 (62.5)\n",
      "image: 7550/12000 (62.92)\n",
      "image: 7600/12000 (63.33)\n",
      "image: 7650/12000 (63.75)\n",
      "image: 7700/12000 (64.17)\n",
      "image: 7750/12000 (64.58)\n",
      "image: 7800/12000 (65.0)\n",
      "image: 7850/12000 (65.42)\n",
      "image: 7900/12000 (65.83)\n",
      "image: 7950/12000 (66.25)\n",
      "image: 8000/12000 (66.67)\n",
      "image: 8050/12000 (67.08)\n",
      "image: 8100/12000 (67.5)\n",
      "image: 8150/12000 (67.92)\n",
      "image: 8200/12000 (68.33)\n",
      "image: 8250/12000 (68.75)\n",
      "image: 8300/12000 (69.17)\n",
      "image: 8350/12000 (69.58)\n",
      "image: 8400/12000 (70.0)\n",
      "image: 8450/12000 (70.42)\n",
      "image: 8500/12000 (70.83)\n",
      "image: 8550/12000 (71.25)\n",
      "image: 8600/12000 (71.67)\n",
      "image: 8650/12000 (72.08)\n",
      "image: 8700/12000 (72.5)\n",
      "image: 8750/12000 (72.92)\n",
      "image: 8800/12000 (73.33)\n",
      "image: 8850/12000 (73.75)\n",
      "image: 8900/12000 (74.17)\n",
      "image: 8950/12000 (74.58)\n",
      "image: 9000/12000 (75.0)\n",
      "image: 9050/12000 (75.42)\n",
      "image: 9100/12000 (75.83)\n",
      "image: 9150/12000 (76.25)\n",
      "image: 9200/12000 (76.67)\n",
      "image: 9250/12000 (77.08)\n",
      "image: 9300/12000 (77.5)\n",
      "image: 9350/12000 (77.92)\n",
      "image: 9400/12000 (78.33)\n",
      "image: 9450/12000 (78.75)\n",
      "image: 9500/12000 (79.17)\n",
      "image: 9550/12000 (79.58)\n",
      "image: 9600/12000 (80.0)\n",
      "image: 9650/12000 (80.42)\n",
      "image: 9700/12000 (80.83)\n",
      "image: 9750/12000 (81.25)\n",
      "image: 9800/12000 (81.67)\n",
      "image: 9850/12000 (82.08)\n",
      "image: 9900/12000 (82.5)\n",
      "image: 9950/12000 (82.92)\n",
      "image: 10000/12000 (83.33)\n",
      "image: 10050/12000 (83.75)\n",
      "image: 10100/12000 (84.17)\n",
      "image: 10150/12000 (84.58)\n",
      "image: 10200/12000 (85.0)\n",
      "image: 10250/12000 (85.42)\n",
      "image: 10300/12000 (85.83)\n",
      "image: 10350/12000 (86.25)\n",
      "image: 10400/12000 (86.67)\n",
      "image: 10450/12000 (87.08)\n",
      "image: 10500/12000 (87.5)\n",
      "image: 10550/12000 (87.92)\n",
      "image: 10600/12000 (88.33)\n",
      "image: 10650/12000 (88.75)\n",
      "image: 10700/12000 (89.17)\n",
      "image: 10750/12000 (89.58)\n",
      "image: 10800/12000 (90.0)\n",
      "image: 10850/12000 (90.42)\n",
      "image: 10900/12000 (90.83)\n",
      "image: 10950/12000 (91.25)\n",
      "image: 11000/12000 (91.67)\n",
      "image: 11050/12000 (92.08)\n",
      "image: 11100/12000 (92.5)\n",
      "image: 11150/12000 (92.92)\n",
      "image: 11200/12000 (93.33)\n",
      "image: 11250/12000 (93.75)\n",
      "image: 11300/12000 (94.17)\n",
      "image: 11350/12000 (94.58)\n",
      "image: 11400/12000 (95.0)\n",
      "image: 11450/12000 (95.42)\n",
      "image: 11500/12000 (95.83)\n",
      "image: 11550/12000 (96.25)\n",
      "image: 11600/12000 (96.67)\n",
      "image: 11650/12000 (97.08)\n",
      "image: 11700/12000 (97.5)\n",
      "image: 11750/12000 (97.92)\n",
      "image: 11800/12000 (98.33)\n",
      "image: 11850/12000 (98.75)\n",
      "image: 11900/12000 (99.17)\n",
      "image: 11950/12000 (99.58)\n",
      "image: 12000/12000 (100.0)\n"
     ]
    }
   ],
   "source": [
    "create_sift_features(feature_file, label_file, index_file, train_loader, 0.01)"
   ]
  },
  {
   "cell_type": "code",
   "execution_count": null,
   "metadata": {},
   "outputs": [],
   "source": [
    "val_loader = torch.utils.data.DataLoader(\n",
    "      datasets.ImageFolder(os.path.join(data_path, val_folder), transform=data_transforms),\n",
    "      batch_size=1,\n",
    "      shuffle=True,\n",
    "      num_workers=1,\n",
    "  )"
   ]
  },
  {
   "cell_type": "code",
   "execution_count": null,
   "metadata": {},
   "outputs": [],
   "source": [
    "create_sift_features(val_feature_file, val_label_file, val_index_file, val_loader, 0.01)"
   ]
  },
  {
   "cell_type": "markdown",
   "metadata": {
    "id": "nMRLZxzczBsz"
   },
   "source": [
    "# 3. Creation of the feature dictionary"
   ]
  },
  {
   "cell_type": "code",
   "execution_count": 98,
   "metadata": {
    "id": "J4AcgH1b51_i"
   },
   "outputs": [],
   "source": [
    "from sklearn.cluster import KMeans\n",
    "import numpy as np\n",
    "import pickle"
   ]
  },
  {
   "cell_type": "code",
   "execution_count": 99,
   "metadata": {},
   "outputs": [],
   "source": [
    "model_knn_file = \"model_knn.pkl\"\n",
    "filtered_features_file = \"filtered_features.csv\""
   ]
  },
  {
   "cell_type": "code",
   "execution_count": 100,
   "metadata": {
    "colab": {
     "base_uri": "https://localhost:8080/"
    },
    "executionInfo": {
     "elapsed": 3998,
     "status": "ok",
     "timestamp": 1700660682684,
     "user": {
      "displayName": "Ugo Insalaco",
      "userId": "06096616963439648287"
     },
     "user_tz": -60
    },
    "id": "b3TUNPMrzxIJ",
    "outputId": "d27d4d16-e616-4747-f7a4-53a78d23038c"
   },
   "outputs": [
    {
     "name": "stdout",
     "output_type": "stream",
     "text": [
      "(834952, 128)\n"
     ]
    }
   ],
   "source": [
    "features = np.loadtxt(feature_file, delimiter=\",\")\n",
    "print(features.shape)"
   ]
  },
  {
   "cell_type": "code",
   "execution_count": 148,
   "metadata": {
    "id": "EZ07Cnlb5VUC"
   },
   "outputs": [],
   "source": [
    "dict_size = 5000\n",
    "kmeans = KMeans(n_clusters = dict_size, n_init='auto')\n",
    "kmeans.fit(features)\n",
    "\n",
    "with open(model_knn_file, \"wb\") as f:\n",
    "    pickle.dump(kmeans, f)"
   ]
  },
  {
   "cell_type": "code",
   "execution_count": 149,
   "metadata": {
    "id": "nzS_KUN06Dll"
   },
   "outputs": [],
   "source": [
    "feature_dictionary = kmeans.cluster_centers_\n",
    "np.savetxt(filtered_features_file, feature_dictionary, delimiter=',')"
   ]
  },
  {
   "cell_type": "markdown",
   "metadata": {
    "id": "O1OFQP8K747Y"
   },
   "source": [
    "# 5. Dataset of histograms"
   ]
  },
  {
   "cell_type": "code",
   "execution_count": 150,
   "metadata": {
    "id": "fLe9Wl93AWqD"
   },
   "outputs": [],
   "source": [
    "from sklearn.neighbors import KDTree"
   ]
  },
  {
   "cell_type": "code",
   "execution_count": 151,
   "metadata": {},
   "outputs": [],
   "source": [
    "hist_file = \"hist.csv\"\n",
    "tfidf_file = \"tfidf.csv\"\n",
    "norm_hist_file = \"norm_hist.csv\"\n",
    "filtered_features_file = \"filtered_features.csv\""
   ]
  },
  {
   "cell_type": "code",
   "execution_count": null,
   "metadata": {
    "id": "TeVJKKW2_exq"
   },
   "outputs": [],
   "source": [
    "create_histogram_dataset(filtered_features_file, feature_file, index_file, hist_file)"
   ]
  },
  {
   "cell_type": "code",
   "execution_count": 153,
   "metadata": {
    "id": "ZnNVyMpaE46I"
   },
   "outputs": [
    {
     "name": "stdout",
     "output_type": "stream",
     "text": [
      "3496\n"
     ]
    }
   ],
   "source": [
    "compute_tfidf(hist_file, tfidf_file)"
   ]
  },
  {
   "cell_type": "code",
   "execution_count": 154,
   "metadata": {
    "id": "VsqdRxx5G-fd"
   },
   "outputs": [],
   "source": [
    "normalize_histogram(hist_file, tfidf_file, norm_hist_file)"
   ]
  },
  {
   "cell_type": "markdown",
   "metadata": {
    "id": "DV0AgD2GHUpY"
   },
   "source": [
    "# 6. Fit SVM"
   ]
  },
  {
   "cell_type": "code",
   "execution_count": 155,
   "metadata": {
    "id": "DEBk93SdHGcP"
   },
   "outputs": [],
   "source": [
    "from sklearn.svm import SVC\n",
    "import pickle"
   ]
  },
  {
   "cell_type": "code",
   "execution_count": 156,
   "metadata": {},
   "outputs": [],
   "source": [
    "model_svc_file = 'model_svc.pkl'\n",
    "norm_hist_file = \"norm_hist.csv\""
   ]
  },
  {
   "cell_type": "code",
   "execution_count": 157,
   "metadata": {
    "id": "zgaInf_tHj64"
   },
   "outputs": [],
   "source": [
    "norm_hist = np.loadtxt(norm_hist_file, delimiter = ',')\n",
    "norm_hist = np.nan_to_num(norm_hist)\n",
    "labels = np.loadtxt(label_file, delimiter = ',').astype(np.int32)"
   ]
  },
  {
   "cell_type": "code",
   "execution_count": 158,
   "metadata": {
    "colab": {
     "base_uri": "https://localhost:8080/",
     "height": 74
    },
    "executionInfo": {
     "elapsed": 3540,
     "status": "ok",
     "timestamp": 1700665467032,
     "user": {
      "displayName": "Ugo Insalaco",
      "userId": "06096616963439648287"
     },
     "user_tz": -60
    },
    "id": "l62lwLxzHy6l",
    "outputId": "47bd1e36-9036-489c-a8a8-16d3bb267049"
   },
   "outputs": [
    {
     "data": {
      "text/html": [
       "<style>#sk-container-id-4 {color: black;}#sk-container-id-4 pre{padding: 0;}#sk-container-id-4 div.sk-toggleable {background-color: white;}#sk-container-id-4 label.sk-toggleable__label {cursor: pointer;display: block;width: 100%;margin-bottom: 0;padding: 0.3em;box-sizing: border-box;text-align: center;}#sk-container-id-4 label.sk-toggleable__label-arrow:before {content: \"▸\";float: left;margin-right: 0.25em;color: #696969;}#sk-container-id-4 label.sk-toggleable__label-arrow:hover:before {color: black;}#sk-container-id-4 div.sk-estimator:hover label.sk-toggleable__label-arrow:before {color: black;}#sk-container-id-4 div.sk-toggleable__content {max-height: 0;max-width: 0;overflow: hidden;text-align: left;background-color: #f0f8ff;}#sk-container-id-4 div.sk-toggleable__content pre {margin: 0.2em;color: black;border-radius: 0.25em;background-color: #f0f8ff;}#sk-container-id-4 input.sk-toggleable__control:checked~div.sk-toggleable__content {max-height: 200px;max-width: 100%;overflow: auto;}#sk-container-id-4 input.sk-toggleable__control:checked~label.sk-toggleable__label-arrow:before {content: \"▾\";}#sk-container-id-4 div.sk-estimator input.sk-toggleable__control:checked~label.sk-toggleable__label {background-color: #d4ebff;}#sk-container-id-4 div.sk-label input.sk-toggleable__control:checked~label.sk-toggleable__label {background-color: #d4ebff;}#sk-container-id-4 input.sk-hidden--visually {border: 0;clip: rect(1px 1px 1px 1px);clip: rect(1px, 1px, 1px, 1px);height: 1px;margin: -1px;overflow: hidden;padding: 0;position: absolute;width: 1px;}#sk-container-id-4 div.sk-estimator {font-family: monospace;background-color: #f0f8ff;border: 1px dotted black;border-radius: 0.25em;box-sizing: border-box;margin-bottom: 0.5em;}#sk-container-id-4 div.sk-estimator:hover {background-color: #d4ebff;}#sk-container-id-4 div.sk-parallel-item::after {content: \"\";width: 100%;border-bottom: 1px solid gray;flex-grow: 1;}#sk-container-id-4 div.sk-label:hover label.sk-toggleable__label {background-color: #d4ebff;}#sk-container-id-4 div.sk-serial::before {content: \"\";position: absolute;border-left: 1px solid gray;box-sizing: border-box;top: 0;bottom: 0;left: 50%;z-index: 0;}#sk-container-id-4 div.sk-serial {display: flex;flex-direction: column;align-items: center;background-color: white;padding-right: 0.2em;padding-left: 0.2em;position: relative;}#sk-container-id-4 div.sk-item {position: relative;z-index: 1;}#sk-container-id-4 div.sk-parallel {display: flex;align-items: stretch;justify-content: center;background-color: white;position: relative;}#sk-container-id-4 div.sk-item::before, #sk-container-id-4 div.sk-parallel-item::before {content: \"\";position: absolute;border-left: 1px solid gray;box-sizing: border-box;top: 0;bottom: 0;left: 50%;z-index: -1;}#sk-container-id-4 div.sk-parallel-item {display: flex;flex-direction: column;z-index: 1;position: relative;background-color: white;}#sk-container-id-4 div.sk-parallel-item:first-child::after {align-self: flex-end;width: 50%;}#sk-container-id-4 div.sk-parallel-item:last-child::after {align-self: flex-start;width: 50%;}#sk-container-id-4 div.sk-parallel-item:only-child::after {width: 0;}#sk-container-id-4 div.sk-dashed-wrapped {border: 1px dashed gray;margin: 0 0.4em 0.5em 0.4em;box-sizing: border-box;padding-bottom: 0.4em;background-color: white;}#sk-container-id-4 div.sk-label label {font-family: monospace;font-weight: bold;display: inline-block;line-height: 1.2em;}#sk-container-id-4 div.sk-label-container {text-align: center;}#sk-container-id-4 div.sk-container {/* jupyter's `normalize.less` sets `[hidden] { display: none; }` but bootstrap.min.css set `[hidden] { display: none !important; }` so we also need the `!important` here to be able to override the default hidden behavior on the sphinx rendered scikit-learn.org. See: https://github.com/scikit-learn/scikit-learn/issues/21755 */display: inline-block !important;position: relative;}#sk-container-id-4 div.sk-text-repr-fallback {display: none;}</style><div id=\"sk-container-id-4\" class=\"sk-top-container\"><div class=\"sk-text-repr-fallback\"><pre>SVC()</pre><b>In a Jupyter environment, please rerun this cell to show the HTML representation or trust the notebook. <br />On GitHub, the HTML representation is unable to render, please try loading this page with nbviewer.org.</b></div><div class=\"sk-container\" hidden><div class=\"sk-item\"><div class=\"sk-estimator sk-toggleable\"><input class=\"sk-toggleable__control sk-hidden--visually\" id=\"sk-estimator-id-4\" type=\"checkbox\" checked><label for=\"sk-estimator-id-4\" class=\"sk-toggleable__label sk-toggleable__label-arrow\">SVC</label><div class=\"sk-toggleable__content\"><pre>SVC()</pre></div></div></div></div></div>"
      ],
      "text/plain": [
       "SVC()"
      ]
     },
     "execution_count": 158,
     "metadata": {},
     "output_type": "execute_result"
    }
   ],
   "source": [
    "svc = SVC()\n",
    "svc.fit(norm_hist, labels)"
   ]
  },
  {
   "cell_type": "code",
   "execution_count": 159,
   "metadata": {
    "id": "RWBPUHGRsL66"
   },
   "outputs": [],
   "source": [
    "with open(model_svc_file, \"wb\") as f:\n",
    "    pickle.dump(svc, f)"
   ]
  },
  {
   "cell_type": "code",
   "execution_count": 160,
   "metadata": {
    "id": "nD9SnttKIO2e"
   },
   "outputs": [],
   "source": [
    "train_pred = svc.predict(norm_hist)"
   ]
  },
  {
   "cell_type": "code",
   "execution_count": 161,
   "metadata": {
    "colab": {
     "base_uri": "https://localhost:8080/"
    },
    "executionInfo": {
     "elapsed": 421,
     "status": "ok",
     "timestamp": 1700667490715,
     "user": {
      "displayName": "Ugo Insalaco",
      "userId": "06096616963439648287"
     },
     "user_tz": -60
    },
    "id": "Vru3BWK4JUNO",
    "outputId": "97ce4167-8cdd-45f5-b504-c9f3d0aa75d2"
   },
   "outputs": [
    {
     "name": "stdout",
     "output_type": "stream",
     "text": [
      "0.7083333333333334\n"
     ]
    }
   ],
   "source": [
    "print(np.sum(train_pred == labels)/labels.shape[0])"
   ]
  },
  {
   "cell_type": "markdown",
   "metadata": {
    "id": "O9Z7AnkAKlf9"
   },
   "source": [
    "# 7. Test"
   ]
  },
  {
   "cell_type": "code",
   "execution_count": 162,
   "metadata": {
    "id": "Pitdq5o1qRyb"
   },
   "outputs": [],
   "source": [
    "from joblib import dump, load\n",
    "import torch\n",
    "from torchvision import datasets\n",
    "import torchvision.transforms as transforms\n",
    "import numpy as np\n",
    "from sklearn.neighbors import KDTree"
   ]
  },
  {
   "cell_type": "code",
   "execution_count": 163,
   "metadata": {},
   "outputs": [],
   "source": [
    "model_svc_file = \"model_svc.pkl\"\n",
    "filtered_features_file = \"filtered_features.csv\"\n",
    "val_hist_file = \"val_hist.csv\"\n",
    "val_tfidf_file = \"val_tfidf.csv\"\n",
    "val_norm_hist_file = \"val_norm_hist.csv\""
   ]
  },
  {
   "cell_type": "code",
   "execution_count": 164,
   "metadata": {},
   "outputs": [],
   "source": [
    "svc = load(model_svc_file)\n",
    "data_transforms = transforms.Compose([\n",
    "    transforms.ToTensor()\n",
    "])"
   ]
  },
  {
   "cell_type": "code",
   "execution_count": 165,
   "metadata": {
    "colab": {
     "base_uri": "https://localhost:8080/",
     "height": 390
    },
    "executionInfo": {
     "elapsed": 328,
     "status": "error",
     "timestamp": 1700735189952,
     "user": {
      "displayName": "Ugo Insalaco",
      "userId": "06096616963439648287"
     },
     "user_tz": -60
    },
    "id": "36JZRDPDLBId",
    "outputId": "148115d7-e270-412b-baa2-346cbabb380b"
   },
   "outputs": [],
   "source": [
    "create_histogram_dataset(filtered_features_file, val_feature_file, val_index_file, val_hist_file)"
   ]
  },
  {
   "cell_type": "code",
   "execution_count": 166,
   "metadata": {
    "colab": {
     "base_uri": "https://localhost:8080/"
    },
    "executionInfo": {
     "elapsed": 2608,
     "status": "ok",
     "timestamp": 1700735143471,
     "user": {
      "displayName": "Ugo Insalaco",
      "userId": "06096616963439648287"
     },
     "user_tz": -60
    },
    "id": "DvYnhOuILaq3",
    "outputId": "7d5695f9-0460-4912-fba1-523faf1d3f59"
   },
   "outputs": [
    {
     "name": "stdout",
     "output_type": "stream",
     "text": [
      "1\n"
     ]
    }
   ],
   "source": [
    "compute_tfidf(val_hist_file, val_tfidf_file)"
   ]
  },
  {
   "cell_type": "code",
   "execution_count": 167,
   "metadata": {
    "colab": {
     "base_uri": "https://localhost:8080/",
     "height": 192
    },
    "executionInfo": {
     "elapsed": 4,
     "status": "error",
     "timestamp": 1700734521576,
     "user": {
      "displayName": "Ugo Insalaco",
      "userId": "06096616963439648287"
     },
     "user_tz": -60
    },
    "id": "zXYagSJUMGEL",
    "outputId": "8b309d8e-bfa7-4793-f2f8-446e3c0aa57e"
   },
   "outputs": [],
   "source": [
    "normalize_histogram(val_hist_file, val_tfidf_file, val_norm_hist_file)"
   ]
  },
  {
   "cell_type": "code",
   "execution_count": 168,
   "metadata": {
    "colab": {
     "base_uri": "https://localhost:8080/",
     "height": 390
    },
    "executionInfo": {
     "elapsed": 202,
     "status": "error",
     "timestamp": 1700734534879,
     "user": {
      "displayName": "Ugo Insalaco",
      "userId": "06096616963439648287"
     },
     "user_tz": -60
    },
    "id": "XGTLtErIMJ7Z",
    "outputId": "d527ea12-6c40-4a67-d9b7-195d24fd6153"
   },
   "outputs": [],
   "source": [
    "val_norm_hist = np.loadtxt(val_norm_hist_file, delimiter = ',')\n",
    "val_norm_hist = np.nan_to_num(val_norm_hist)\n",
    "val_labels = np.loadtxt(val_label_file, delimiter = ',').astype(np.int32)\n",
    "val_pred = svc.predict(val_norm_hist)"
   ]
  },
  {
   "cell_type": "code",
   "execution_count": 169,
   "metadata": {
    "colab": {
     "base_uri": "https://localhost:8080/"
    },
    "executionInfo": {
     "elapsed": 4,
     "status": "ok",
     "timestamp": 1700668655033,
     "user": {
      "displayName": "Ugo Insalaco",
      "userId": "06096616963439648287"
     },
     "user_tz": -60
    },
    "id": "igq_FUXnMSBY",
    "outputId": "721c79a4-e885-43b7-f640-e1f7c53ce0d8"
   },
   "outputs": [
    {
     "name": "stdout",
     "output_type": "stream",
     "text": [
      "0.06533333333333333\n"
     ]
    }
   ],
   "source": [
    "print(np.sum(val_pred == val_labels)/val_labels.shape[0])"
   ]
  },
  {
   "cell_type": "code",
   "execution_count": 170,
   "metadata": {
    "colab": {
     "base_uri": "https://localhost:8080/"
    },
    "executionInfo": {
     "elapsed": 303,
     "status": "ok",
     "timestamp": 1700668748396,
     "user": {
      "displayName": "Ugo Insalaco",
      "userId": "06096616963439648287"
     },
     "user_tz": -60
    },
    "id": "B7UnJaqoMkvG",
    "outputId": "c9c2fd25-42ad-46e6-da24-67c21bb010e6"
   },
   "outputs": [
    {
     "name": "stdout",
     "output_type": "stream",
     "text": [
      "[169  23 185 ... 108  59   8] [ 24 216 123 ...  38  72 181]\n"
     ]
    }
   ],
   "source": [
    "print(val_pred, val_labels)"
   ]
  }
 ],
 "metadata": {
  "colab": {
   "authorship_tag": "ABX9TyP2u8RkiuFYmQUA2J0yW5EY",
   "mount_file_id": "1lC59gHpSk6xopwNhx8NtMMjN3QuvweBc",
   "provenance": []
  },
  "kernelspec": {
   "display_name": "objectA3",
   "language": "python",
   "name": "objecta3"
  },
  "language_info": {
   "codemirror_mode": {
    "name": "ipython",
    "version": 3
   },
   "file_extension": ".py",
   "mimetype": "text/x-python",
   "name": "python",
   "nbconvert_exporter": "python",
   "pygments_lexer": "ipython3",
   "version": "3.10.10"
  }
 },
 "nbformat": 4,
 "nbformat_minor": 4
}
